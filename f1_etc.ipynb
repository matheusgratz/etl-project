{
 "metadata": {
  "language_info": {
   "codemirror_mode": {
    "name": "ipython",
    "version": 3
   },
   "file_extension": ".py",
   "mimetype": "text/x-python",
   "name": "python",
   "nbconvert_exporter": "python",
   "pygments_lexer": "ipython3",
   "version": "3.8.3-final"
  },
  "orig_nbformat": 2,
  "kernelspec": {
   "name": "Python 3.8.3 64-bit ('base': conda)",
   "display_name": "Python 3.8.3 64-bit ('base': conda)",
   "metadata": {
    "interpreter": {
     "hash": "6957815fe969b2f63b66f6bc73364da7e738e8b6c1f33bba75a9c2a5df7884e8"
    }
   }
  }
 },
 "nbformat": 4,
 "nbformat_minor": 2,
 "cells": [
  {
   "source": [
    "#### ETL Project\n",
    "#### Contributors:\n",
    "Matheus Gratz / Roberto Gonzalez / Sergio Guarneros"
   ],
   "cell_type": "markdown",
   "metadata": {}
  },
  {
   "cell_type": "code",
   "execution_count": 1,
   "metadata": {},
   "outputs": [],
   "source": [
    "# Import dependencies\n",
    "import pandas as pd\n",
    "from sqlalchemy.ext.automap import automap_base\n",
    "from sqlalchemy.orm import Session\n",
    "from sqlalchemy import create_engine, inspect, func"
   ]
  },
  {
   "cell_type": "code",
   "execution_count": 2,
   "metadata": {},
   "outputs": [],
   "source": [
    "# Import credentials\n",
    "from my_credentials import PGHOST, PGDATABASE, PGUSER, PGPASSWORD"
   ]
  },
  {
   "source": [
    "## Read CSV for 'circuits', load it to a dataframe and do some transformations"
   ],
   "cell_type": "markdown",
   "metadata": {}
  },
  {
   "cell_type": "code",
   "execution_count": 3,
   "metadata": {},
   "outputs": [
    {
     "output_type": "execute_result",
     "data": {
      "text/plain": [
       "   circuitId   circuitRef                            name      location  \\\n",
       "0          1  albert_park  Albert Park Grand Prix Circuit     Melbourne   \n",
       "1          2       sepang    Sepang International Circuit  Kuala Lumpur   \n",
       "2          3      bahrain   Bahrain International Circuit        Sakhir   \n",
       "3          4    catalunya  Circuit de Barcelona-Catalunya     MontmelÌ_   \n",
       "4          5     istanbul                   Istanbul Park      Istanbul   \n",
       "\n",
       "     country       lat        lng   alt  \\\n",
       "0  Australia -37.84970  144.96800  10.0   \n",
       "1   Malaysia   2.76083  101.73800   NaN   \n",
       "2    Bahrain  26.03250   50.51060   NaN   \n",
       "3      Spain  41.57000    2.26111   NaN   \n",
       "4     Turkey  40.95170   29.40500   NaN   \n",
       "\n",
       "                                                 url  \n",
       "0  http://en.wikipedia.org/wiki/Melbourne_Grand_P...  \n",
       "1  http://en.wikipedia.org/wiki/Sepang_Internatio...  \n",
       "2  http://en.wikipedia.org/wiki/Bahrain_Internati...  \n",
       "3  http://en.wikipedia.org/wiki/Circuit_de_Barcel...  \n",
       "4         http://en.wikipedia.org/wiki/Istanbul_Park  "
      ],
      "text/html": "<div>\n<style scoped>\n    .dataframe tbody tr th:only-of-type {\n        vertical-align: middle;\n    }\n\n    .dataframe tbody tr th {\n        vertical-align: top;\n    }\n\n    .dataframe thead th {\n        text-align: right;\n    }\n</style>\n<table border=\"1\" class=\"dataframe\">\n  <thead>\n    <tr style=\"text-align: right;\">\n      <th></th>\n      <th>circuitId</th>\n      <th>circuitRef</th>\n      <th>name</th>\n      <th>location</th>\n      <th>country</th>\n      <th>lat</th>\n      <th>lng</th>\n      <th>alt</th>\n      <th>url</th>\n    </tr>\n  </thead>\n  <tbody>\n    <tr>\n      <th>0</th>\n      <td>1</td>\n      <td>albert_park</td>\n      <td>Albert Park Grand Prix Circuit</td>\n      <td>Melbourne</td>\n      <td>Australia</td>\n      <td>-37.84970</td>\n      <td>144.96800</td>\n      <td>10.0</td>\n      <td>http://en.wikipedia.org/wiki/Melbourne_Grand_P...</td>\n    </tr>\n    <tr>\n      <th>1</th>\n      <td>2</td>\n      <td>sepang</td>\n      <td>Sepang International Circuit</td>\n      <td>Kuala Lumpur</td>\n      <td>Malaysia</td>\n      <td>2.76083</td>\n      <td>101.73800</td>\n      <td>NaN</td>\n      <td>http://en.wikipedia.org/wiki/Sepang_Internatio...</td>\n    </tr>\n    <tr>\n      <th>2</th>\n      <td>3</td>\n      <td>bahrain</td>\n      <td>Bahrain International Circuit</td>\n      <td>Sakhir</td>\n      <td>Bahrain</td>\n      <td>26.03250</td>\n      <td>50.51060</td>\n      <td>NaN</td>\n      <td>http://en.wikipedia.org/wiki/Bahrain_Internati...</td>\n    </tr>\n    <tr>\n      <th>3</th>\n      <td>4</td>\n      <td>catalunya</td>\n      <td>Circuit de Barcelona-Catalunya</td>\n      <td>MontmelÌ_</td>\n      <td>Spain</td>\n      <td>41.57000</td>\n      <td>2.26111</td>\n      <td>NaN</td>\n      <td>http://en.wikipedia.org/wiki/Circuit_de_Barcel...</td>\n    </tr>\n    <tr>\n      <th>4</th>\n      <td>5</td>\n      <td>istanbul</td>\n      <td>Istanbul Park</td>\n      <td>Istanbul</td>\n      <td>Turkey</td>\n      <td>40.95170</td>\n      <td>29.40500</td>\n      <td>NaN</td>\n      <td>http://en.wikipedia.org/wiki/Istanbul_Park</td>\n    </tr>\n  </tbody>\n</table>\n</div>"
     },
     "metadata": {},
     "execution_count": 3
    }
   ],
   "source": [
    "path_circuits = 'Resources/circuits.csv'\n",
    "circuits_df = pd.read_csv(path_circuits, encoding='latin_1')\n",
    "circuits_df.head()"
   ]
  },
  {
   "cell_type": "code",
   "execution_count": 4,
   "metadata": {},
   "outputs": [
    {
     "output_type": "execute_result",
     "data": {
      "text/plain": [
       "   circuitId   circuitRef                            name      location  \\\n",
       "0          1  albert_park  Albert Park Grand Prix Circuit     Melbourne   \n",
       "1          2       sepang    Sepang International Circuit  Kuala Lumpur   \n",
       "2          3      bahrain   Bahrain International Circuit        Sakhir   \n",
       "3          4    catalunya  Circuit de Barcelona-Catalunya     MontmelÌ_   \n",
       "4          5     istanbul                   Istanbul Park      Istanbul   \n",
       "\n",
       "     country       lat        lng  \n",
       "0  Australia -37.84970  144.96800  \n",
       "1   Malaysia   2.76083  101.73800  \n",
       "2    Bahrain  26.03250   50.51060  \n",
       "3      Spain  41.57000    2.26111  \n",
       "4     Turkey  40.95170   29.40500  "
      ],
      "text/html": "<div>\n<style scoped>\n    .dataframe tbody tr th:only-of-type {\n        vertical-align: middle;\n    }\n\n    .dataframe tbody tr th {\n        vertical-align: top;\n    }\n\n    .dataframe thead th {\n        text-align: right;\n    }\n</style>\n<table border=\"1\" class=\"dataframe\">\n  <thead>\n    <tr style=\"text-align: right;\">\n      <th></th>\n      <th>circuitId</th>\n      <th>circuitRef</th>\n      <th>name</th>\n      <th>location</th>\n      <th>country</th>\n      <th>lat</th>\n      <th>lng</th>\n    </tr>\n  </thead>\n  <tbody>\n    <tr>\n      <th>0</th>\n      <td>1</td>\n      <td>albert_park</td>\n      <td>Albert Park Grand Prix Circuit</td>\n      <td>Melbourne</td>\n      <td>Australia</td>\n      <td>-37.84970</td>\n      <td>144.96800</td>\n    </tr>\n    <tr>\n      <th>1</th>\n      <td>2</td>\n      <td>sepang</td>\n      <td>Sepang International Circuit</td>\n      <td>Kuala Lumpur</td>\n      <td>Malaysia</td>\n      <td>2.76083</td>\n      <td>101.73800</td>\n    </tr>\n    <tr>\n      <th>2</th>\n      <td>3</td>\n      <td>bahrain</td>\n      <td>Bahrain International Circuit</td>\n      <td>Sakhir</td>\n      <td>Bahrain</td>\n      <td>26.03250</td>\n      <td>50.51060</td>\n    </tr>\n    <tr>\n      <th>3</th>\n      <td>4</td>\n      <td>catalunya</td>\n      <td>Circuit de Barcelona-Catalunya</td>\n      <td>MontmelÌ_</td>\n      <td>Spain</td>\n      <td>41.57000</td>\n      <td>2.26111</td>\n    </tr>\n    <tr>\n      <th>4</th>\n      <td>5</td>\n      <td>istanbul</td>\n      <td>Istanbul Park</td>\n      <td>Istanbul</td>\n      <td>Turkey</td>\n      <td>40.95170</td>\n      <td>29.40500</td>\n    </tr>\n  </tbody>\n</table>\n</div>"
     },
     "metadata": {},
     "execution_count": 4
    }
   ],
   "source": [
    "#Drop 'alt' columns because we don't have all data for all circuits and the 'url'\n",
    "circuits_df = circuits_df[['circuitId', 'circuitRef', 'name', 'location', 'country', 'lat', 'lng']]\n",
    "circuits_df.head()"
   ]
  },
  {
   "source": [
    "## Read CSV for 'drivers', load it to a dataframe and do some transformations"
   ],
   "cell_type": "markdown",
   "metadata": {}
  },
  {
   "cell_type": "code",
   "execution_count": 5,
   "metadata": {},
   "outputs": [
    {
     "output_type": "execute_result",
     "data": {
      "text/plain": [
       "   driverId   driverRef  number code  forename     surname         dob  \\\n",
       "0         1    hamilton    44.0  HAM     Lewis    Hamilton  07/01/1985   \n",
       "1         2    heidfeld     NaN  HEI      Nick    Heidfeld  10/05/1977   \n",
       "2         3     rosberg     6.0  ROS      Nico     Rosberg  27/06/1985   \n",
       "3         4      alonso    14.0  ALO  Fernando      Alonso  29/07/1981   \n",
       "4         5  kovalainen     NaN  KOV    Heikki  Kovalainen  19/10/1981   \n",
       "\n",
       "  nationality                                             url  \n",
       "0     British     http://en.wikipedia.org/wiki/Lewis_Hamilton  \n",
       "1      German      http://en.wikipedia.org/wiki/Nick_Heidfeld  \n",
       "2      German       http://en.wikipedia.org/wiki/Nico_Rosberg  \n",
       "3     Spanish    http://en.wikipedia.org/wiki/Fernando_Alonso  \n",
       "4     Finnish  http://en.wikipedia.org/wiki/Heikki_Kovalainen  "
      ],
      "text/html": "<div>\n<style scoped>\n    .dataframe tbody tr th:only-of-type {\n        vertical-align: middle;\n    }\n\n    .dataframe tbody tr th {\n        vertical-align: top;\n    }\n\n    .dataframe thead th {\n        text-align: right;\n    }\n</style>\n<table border=\"1\" class=\"dataframe\">\n  <thead>\n    <tr style=\"text-align: right;\">\n      <th></th>\n      <th>driverId</th>\n      <th>driverRef</th>\n      <th>number</th>\n      <th>code</th>\n      <th>forename</th>\n      <th>surname</th>\n      <th>dob</th>\n      <th>nationality</th>\n      <th>url</th>\n    </tr>\n  </thead>\n  <tbody>\n    <tr>\n      <th>0</th>\n      <td>1</td>\n      <td>hamilton</td>\n      <td>44.0</td>\n      <td>HAM</td>\n      <td>Lewis</td>\n      <td>Hamilton</td>\n      <td>07/01/1985</td>\n      <td>British</td>\n      <td>http://en.wikipedia.org/wiki/Lewis_Hamilton</td>\n    </tr>\n    <tr>\n      <th>1</th>\n      <td>2</td>\n      <td>heidfeld</td>\n      <td>NaN</td>\n      <td>HEI</td>\n      <td>Nick</td>\n      <td>Heidfeld</td>\n      <td>10/05/1977</td>\n      <td>German</td>\n      <td>http://en.wikipedia.org/wiki/Nick_Heidfeld</td>\n    </tr>\n    <tr>\n      <th>2</th>\n      <td>3</td>\n      <td>rosberg</td>\n      <td>6.0</td>\n      <td>ROS</td>\n      <td>Nico</td>\n      <td>Rosberg</td>\n      <td>27/06/1985</td>\n      <td>German</td>\n      <td>http://en.wikipedia.org/wiki/Nico_Rosberg</td>\n    </tr>\n    <tr>\n      <th>3</th>\n      <td>4</td>\n      <td>alonso</td>\n      <td>14.0</td>\n      <td>ALO</td>\n      <td>Fernando</td>\n      <td>Alonso</td>\n      <td>29/07/1981</td>\n      <td>Spanish</td>\n      <td>http://en.wikipedia.org/wiki/Fernando_Alonso</td>\n    </tr>\n    <tr>\n      <th>4</th>\n      <td>5</td>\n      <td>kovalainen</td>\n      <td>NaN</td>\n      <td>KOV</td>\n      <td>Heikki</td>\n      <td>Kovalainen</td>\n      <td>19/10/1981</td>\n      <td>Finnish</td>\n      <td>http://en.wikipedia.org/wiki/Heikki_Kovalainen</td>\n    </tr>\n  </tbody>\n</table>\n</div>"
     },
     "metadata": {},
     "execution_count": 5
    }
   ],
   "source": [
    "path_drivers = 'Resources/drivers.csv'\n",
    "drivers_df = pd.read_csv(path_drivers, encoding='latin_1')\n",
    "drivers_df.head()"
   ]
  },
  {
   "cell_type": "code",
   "execution_count": 6,
   "metadata": {},
   "outputs": [
    {
     "output_type": "execute_result",
     "data": {
      "text/plain": [
       "   driverId   driverRef code  forename     surname         dob nationality\n",
       "0         1    hamilton  HAM     Lewis    Hamilton  07/01/1985     British\n",
       "1         2    heidfeld  HEI      Nick    Heidfeld  10/05/1977      German\n",
       "2         3     rosberg  ROS      Nico     Rosberg  27/06/1985      German\n",
       "3         4      alonso  ALO  Fernando      Alonso  29/07/1981     Spanish\n",
       "4         5  kovalainen  KOV    Heikki  Kovalainen  19/10/1981     Finnish"
      ],
      "text/html": "<div>\n<style scoped>\n    .dataframe tbody tr th:only-of-type {\n        vertical-align: middle;\n    }\n\n    .dataframe tbody tr th {\n        vertical-align: top;\n    }\n\n    .dataframe thead th {\n        text-align: right;\n    }\n</style>\n<table border=\"1\" class=\"dataframe\">\n  <thead>\n    <tr style=\"text-align: right;\">\n      <th></th>\n      <th>driverId</th>\n      <th>driverRef</th>\n      <th>code</th>\n      <th>forename</th>\n      <th>surname</th>\n      <th>dob</th>\n      <th>nationality</th>\n    </tr>\n  </thead>\n  <tbody>\n    <tr>\n      <th>0</th>\n      <td>1</td>\n      <td>hamilton</td>\n      <td>HAM</td>\n      <td>Lewis</td>\n      <td>Hamilton</td>\n      <td>07/01/1985</td>\n      <td>British</td>\n    </tr>\n    <tr>\n      <th>1</th>\n      <td>2</td>\n      <td>heidfeld</td>\n      <td>HEI</td>\n      <td>Nick</td>\n      <td>Heidfeld</td>\n      <td>10/05/1977</td>\n      <td>German</td>\n    </tr>\n    <tr>\n      <th>2</th>\n      <td>3</td>\n      <td>rosberg</td>\n      <td>ROS</td>\n      <td>Nico</td>\n      <td>Rosberg</td>\n      <td>27/06/1985</td>\n      <td>German</td>\n    </tr>\n    <tr>\n      <th>3</th>\n      <td>4</td>\n      <td>alonso</td>\n      <td>ALO</td>\n      <td>Fernando</td>\n      <td>Alonso</td>\n      <td>29/07/1981</td>\n      <td>Spanish</td>\n    </tr>\n    <tr>\n      <th>4</th>\n      <td>5</td>\n      <td>kovalainen</td>\n      <td>KOV</td>\n      <td>Heikki</td>\n      <td>Kovalainen</td>\n      <td>19/10/1981</td>\n      <td>Finnish</td>\n    </tr>\n  </tbody>\n</table>\n</div>"
     },
     "metadata": {},
     "execution_count": 6
    }
   ],
   "source": [
    "#Drop 'numbers' columns because we don't have all data for all circuits and the 'url'\n",
    "drivers_df = drivers_df[['driverId', 'driverRef', 'code', 'forename', 'surname', 'dob', 'nationality']]\n",
    "drivers_df.head()"
   ]
  },
  {
   "source": [
    "## Read CSV for 'races', load it to a dataframe and do some transformations"
   ],
   "cell_type": "markdown",
   "metadata": {}
  },
  {
   "cell_type": "code",
   "execution_count": 7,
   "metadata": {},
   "outputs": [
    {
     "output_type": "execute_result",
     "data": {
      "text/plain": [
       "   raceId  year  round  circuitId                   name        date  \\\n",
       "0       1  2009      1          1  Australian Grand Prix  2009-03-29   \n",
       "1       2  2009      2          2   Malaysian Grand Prix  2009-04-05   \n",
       "2       3  2009      3         17     Chinese Grand Prix  2009-04-19   \n",
       "3       4  2009      4          3     Bahrain Grand Prix  2009-04-26   \n",
       "4       5  2009      5          4     Spanish Grand Prix  2009-05-10   \n",
       "\n",
       "       time                                                url  \n",
       "0  06:00:00  http://en.wikipedia.org/wiki/2009_Australian_G...  \n",
       "1  09:00:00  http://en.wikipedia.org/wiki/2009_Malaysian_Gr...  \n",
       "2  07:00:00  http://en.wikipedia.org/wiki/2009_Chinese_Gran...  \n",
       "3  12:00:00  http://en.wikipedia.org/wiki/2009_Bahrain_Gran...  \n",
       "4  12:00:00  http://en.wikipedia.org/wiki/2009_Spanish_Gran...  "
      ],
      "text/html": "<div>\n<style scoped>\n    .dataframe tbody tr th:only-of-type {\n        vertical-align: middle;\n    }\n\n    .dataframe tbody tr th {\n        vertical-align: top;\n    }\n\n    .dataframe thead th {\n        text-align: right;\n    }\n</style>\n<table border=\"1\" class=\"dataframe\">\n  <thead>\n    <tr style=\"text-align: right;\">\n      <th></th>\n      <th>raceId</th>\n      <th>year</th>\n      <th>round</th>\n      <th>circuitId</th>\n      <th>name</th>\n      <th>date</th>\n      <th>time</th>\n      <th>url</th>\n    </tr>\n  </thead>\n  <tbody>\n    <tr>\n      <th>0</th>\n      <td>1</td>\n      <td>2009</td>\n      <td>1</td>\n      <td>1</td>\n      <td>Australian Grand Prix</td>\n      <td>2009-03-29</td>\n      <td>06:00:00</td>\n      <td>http://en.wikipedia.org/wiki/2009_Australian_G...</td>\n    </tr>\n    <tr>\n      <th>1</th>\n      <td>2</td>\n      <td>2009</td>\n      <td>2</td>\n      <td>2</td>\n      <td>Malaysian Grand Prix</td>\n      <td>2009-04-05</td>\n      <td>09:00:00</td>\n      <td>http://en.wikipedia.org/wiki/2009_Malaysian_Gr...</td>\n    </tr>\n    <tr>\n      <th>2</th>\n      <td>3</td>\n      <td>2009</td>\n      <td>3</td>\n      <td>17</td>\n      <td>Chinese Grand Prix</td>\n      <td>2009-04-19</td>\n      <td>07:00:00</td>\n      <td>http://en.wikipedia.org/wiki/2009_Chinese_Gran...</td>\n    </tr>\n    <tr>\n      <th>3</th>\n      <td>4</td>\n      <td>2009</td>\n      <td>4</td>\n      <td>3</td>\n      <td>Bahrain Grand Prix</td>\n      <td>2009-04-26</td>\n      <td>12:00:00</td>\n      <td>http://en.wikipedia.org/wiki/2009_Bahrain_Gran...</td>\n    </tr>\n    <tr>\n      <th>4</th>\n      <td>5</td>\n      <td>2009</td>\n      <td>5</td>\n      <td>4</td>\n      <td>Spanish Grand Prix</td>\n      <td>2009-05-10</td>\n      <td>12:00:00</td>\n      <td>http://en.wikipedia.org/wiki/2009_Spanish_Gran...</td>\n    </tr>\n  </tbody>\n</table>\n</div>"
     },
     "metadata": {},
     "execution_count": 7
    }
   ],
   "source": [
    "path_races = 'Resources/races.csv'\n",
    "races_df = pd.read_csv(path_races, encoding='latin_1')\n",
    "races_df.head()"
   ]
  },
  {
   "cell_type": "code",
   "execution_count": 8,
   "metadata": {},
   "outputs": [
    {
     "output_type": "execute_result",
     "data": {
      "text/plain": [
       "Index(['raceId', 'year', 'round', 'circuitId', 'name', 'date', 'time', 'url'], dtype='object')"
      ]
     },
     "metadata": {},
     "execution_count": 8
    }
   ],
   "source": [
    "races_df.columns"
   ]
  },
  {
   "cell_type": "code",
   "execution_count": 9,
   "metadata": {},
   "outputs": [
    {
     "output_type": "execute_result",
     "data": {
      "text/plain": [
       "   raceId  year  round  circuitId                   name        date\n",
       "0       1  2009      1          1  Australian Grand Prix  2009-03-29\n",
       "1       2  2009      2          2   Malaysian Grand Prix  2009-04-05\n",
       "2       3  2009      3         17     Chinese Grand Prix  2009-04-19\n",
       "3       4  2009      4          3     Bahrain Grand Prix  2009-04-26\n",
       "4       5  2009      5          4     Spanish Grand Prix  2009-05-10"
      ],
      "text/html": "<div>\n<style scoped>\n    .dataframe tbody tr th:only-of-type {\n        vertical-align: middle;\n    }\n\n    .dataframe tbody tr th {\n        vertical-align: top;\n    }\n\n    .dataframe thead th {\n        text-align: right;\n    }\n</style>\n<table border=\"1\" class=\"dataframe\">\n  <thead>\n    <tr style=\"text-align: right;\">\n      <th></th>\n      <th>raceId</th>\n      <th>year</th>\n      <th>round</th>\n      <th>circuitId</th>\n      <th>name</th>\n      <th>date</th>\n    </tr>\n  </thead>\n  <tbody>\n    <tr>\n      <th>0</th>\n      <td>1</td>\n      <td>2009</td>\n      <td>1</td>\n      <td>1</td>\n      <td>Australian Grand Prix</td>\n      <td>2009-03-29</td>\n    </tr>\n    <tr>\n      <th>1</th>\n      <td>2</td>\n      <td>2009</td>\n      <td>2</td>\n      <td>2</td>\n      <td>Malaysian Grand Prix</td>\n      <td>2009-04-05</td>\n    </tr>\n    <tr>\n      <th>2</th>\n      <td>3</td>\n      <td>2009</td>\n      <td>3</td>\n      <td>17</td>\n      <td>Chinese Grand Prix</td>\n      <td>2009-04-19</td>\n    </tr>\n    <tr>\n      <th>3</th>\n      <td>4</td>\n      <td>2009</td>\n      <td>4</td>\n      <td>3</td>\n      <td>Bahrain Grand Prix</td>\n      <td>2009-04-26</td>\n    </tr>\n    <tr>\n      <th>4</th>\n      <td>5</td>\n      <td>2009</td>\n      <td>5</td>\n      <td>4</td>\n      <td>Spanish Grand Prix</td>\n      <td>2009-05-10</td>\n    </tr>\n  </tbody>\n</table>\n</div>"
     },
     "metadata": {},
     "execution_count": 9
    }
   ],
   "source": [
    "#Drop 'time' and 'url' columns because we don't need this info \n",
    "races_df = races_df[['raceId', 'year', 'round', 'circuitId', 'name', 'date']]\n",
    "races_df.head()"
   ]
  },
  {
   "source": [
    "## Read CSV for 'results', load it to a dataframe and do some transformations"
   ],
   "cell_type": "markdown",
   "metadata": {}
  },
  {
   "cell_type": "code",
   "execution_count": 10,
   "metadata": {},
   "outputs": [
    {
     "output_type": "execute_result",
     "data": {
      "text/plain": [
       "   resultId  raceId  driverId  constructorId  number  grid  position  \\\n",
       "0         1      18         1              1    22.0     1       1.0   \n",
       "1         2      18         2              2     3.0     5       2.0   \n",
       "2         3      18         3              3     7.0     7       3.0   \n",
       "3         4      18         4              4     5.0    11       4.0   \n",
       "4         5      18         5              1    23.0     3       5.0   \n",
       "\n",
       "  positionText  positionOrder  points  laps     time  milliseconds  \\\n",
       "0            1              1    10.0    58  34:50.6     5690616.0   \n",
       "1            2              2     8.0    58    5.478     5696094.0   \n",
       "2            3              3     6.0    58    8.163     5698779.0   \n",
       "3            4              4     5.0    58   17.181     5707797.0   \n",
       "4            5              5     4.0    58   18.014     5708630.0   \n",
       "\n",
       "   fastestLap  rank fastestLapTime fastestLapSpeed  statusId  \n",
       "0        39.0   2.0        01:27.5           218.3         1  \n",
       "1        41.0   3.0        01:27.7         217.586         1  \n",
       "2        41.0   5.0        01:28.1         216.719         1  \n",
       "3        58.0   7.0        01:28.6         215.464         1  \n",
       "4        43.0   1.0        01:27.4         218.385         1  "
      ],
      "text/html": "<div>\n<style scoped>\n    .dataframe tbody tr th:only-of-type {\n        vertical-align: middle;\n    }\n\n    .dataframe tbody tr th {\n        vertical-align: top;\n    }\n\n    .dataframe thead th {\n        text-align: right;\n    }\n</style>\n<table border=\"1\" class=\"dataframe\">\n  <thead>\n    <tr style=\"text-align: right;\">\n      <th></th>\n      <th>resultId</th>\n      <th>raceId</th>\n      <th>driverId</th>\n      <th>constructorId</th>\n      <th>number</th>\n      <th>grid</th>\n      <th>position</th>\n      <th>positionText</th>\n      <th>positionOrder</th>\n      <th>points</th>\n      <th>laps</th>\n      <th>time</th>\n      <th>milliseconds</th>\n      <th>fastestLap</th>\n      <th>rank</th>\n      <th>fastestLapTime</th>\n      <th>fastestLapSpeed</th>\n      <th>statusId</th>\n    </tr>\n  </thead>\n  <tbody>\n    <tr>\n      <th>0</th>\n      <td>1</td>\n      <td>18</td>\n      <td>1</td>\n      <td>1</td>\n      <td>22.0</td>\n      <td>1</td>\n      <td>1.0</td>\n      <td>1</td>\n      <td>1</td>\n      <td>10.0</td>\n      <td>58</td>\n      <td>34:50.6</td>\n      <td>5690616.0</td>\n      <td>39.0</td>\n      <td>2.0</td>\n      <td>01:27.5</td>\n      <td>218.3</td>\n      <td>1</td>\n    </tr>\n    <tr>\n      <th>1</th>\n      <td>2</td>\n      <td>18</td>\n      <td>2</td>\n      <td>2</td>\n      <td>3.0</td>\n      <td>5</td>\n      <td>2.0</td>\n      <td>2</td>\n      <td>2</td>\n      <td>8.0</td>\n      <td>58</td>\n      <td>5.478</td>\n      <td>5696094.0</td>\n      <td>41.0</td>\n      <td>3.0</td>\n      <td>01:27.7</td>\n      <td>217.586</td>\n      <td>1</td>\n    </tr>\n    <tr>\n      <th>2</th>\n      <td>3</td>\n      <td>18</td>\n      <td>3</td>\n      <td>3</td>\n      <td>7.0</td>\n      <td>7</td>\n      <td>3.0</td>\n      <td>3</td>\n      <td>3</td>\n      <td>6.0</td>\n      <td>58</td>\n      <td>8.163</td>\n      <td>5698779.0</td>\n      <td>41.0</td>\n      <td>5.0</td>\n      <td>01:28.1</td>\n      <td>216.719</td>\n      <td>1</td>\n    </tr>\n    <tr>\n      <th>3</th>\n      <td>4</td>\n      <td>18</td>\n      <td>4</td>\n      <td>4</td>\n      <td>5.0</td>\n      <td>11</td>\n      <td>4.0</td>\n      <td>4</td>\n      <td>4</td>\n      <td>5.0</td>\n      <td>58</td>\n      <td>17.181</td>\n      <td>5707797.0</td>\n      <td>58.0</td>\n      <td>7.0</td>\n      <td>01:28.6</td>\n      <td>215.464</td>\n      <td>1</td>\n    </tr>\n    <tr>\n      <th>4</th>\n      <td>5</td>\n      <td>18</td>\n      <td>5</td>\n      <td>1</td>\n      <td>23.0</td>\n      <td>3</td>\n      <td>5.0</td>\n      <td>5</td>\n      <td>5</td>\n      <td>4.0</td>\n      <td>58</td>\n      <td>18.014</td>\n      <td>5708630.0</td>\n      <td>43.0</td>\n      <td>1.0</td>\n      <td>01:27.4</td>\n      <td>218.385</td>\n      <td>1</td>\n    </tr>\n  </tbody>\n</table>\n</div>"
     },
     "metadata": {},
     "execution_count": 10
    }
   ],
   "source": [
    "path_results = 'Resources/results.csv'\n",
    "results_df = pd.read_csv(path_results, encoding='latin_1')\n",
    "results_df.head()"
   ]
  },
  {
   "cell_type": "code",
   "execution_count": 11,
   "metadata": {},
   "outputs": [
    {
     "output_type": "execute_result",
     "data": {
      "text/plain": [
       "   resultId  raceId  driverId  grid  position  points  laps     time  \\\n",
       "0         1      18         1     1       1.0    10.0    58  34:50.6   \n",
       "1         2      18         2     5       2.0     8.0    58    5.478   \n",
       "2         3      18         3     7       3.0     6.0    58    8.163   \n",
       "3         4      18         4    11       4.0     5.0    58   17.181   \n",
       "4         5      18         5     3       5.0     4.0    58   18.014   \n",
       "\n",
       "   milliseconds  fastestLap fastestLapTime fastestLapSpeed  \n",
       "0     5690616.0        39.0        01:27.5           218.3  \n",
       "1     5696094.0        41.0        01:27.7         217.586  \n",
       "2     5698779.0        41.0        01:28.1         216.719  \n",
       "3     5707797.0        58.0        01:28.6         215.464  \n",
       "4     5708630.0        43.0        01:27.4         218.385  "
      ],
      "text/html": "<div>\n<style scoped>\n    .dataframe tbody tr th:only-of-type {\n        vertical-align: middle;\n    }\n\n    .dataframe tbody tr th {\n        vertical-align: top;\n    }\n\n    .dataframe thead th {\n        text-align: right;\n    }\n</style>\n<table border=\"1\" class=\"dataframe\">\n  <thead>\n    <tr style=\"text-align: right;\">\n      <th></th>\n      <th>resultId</th>\n      <th>raceId</th>\n      <th>driverId</th>\n      <th>grid</th>\n      <th>position</th>\n      <th>points</th>\n      <th>laps</th>\n      <th>time</th>\n      <th>milliseconds</th>\n      <th>fastestLap</th>\n      <th>fastestLapTime</th>\n      <th>fastestLapSpeed</th>\n    </tr>\n  </thead>\n  <tbody>\n    <tr>\n      <th>0</th>\n      <td>1</td>\n      <td>18</td>\n      <td>1</td>\n      <td>1</td>\n      <td>1.0</td>\n      <td>10.0</td>\n      <td>58</td>\n      <td>34:50.6</td>\n      <td>5690616.0</td>\n      <td>39.0</td>\n      <td>01:27.5</td>\n      <td>218.3</td>\n    </tr>\n    <tr>\n      <th>1</th>\n      <td>2</td>\n      <td>18</td>\n      <td>2</td>\n      <td>5</td>\n      <td>2.0</td>\n      <td>8.0</td>\n      <td>58</td>\n      <td>5.478</td>\n      <td>5696094.0</td>\n      <td>41.0</td>\n      <td>01:27.7</td>\n      <td>217.586</td>\n    </tr>\n    <tr>\n      <th>2</th>\n      <td>3</td>\n      <td>18</td>\n      <td>3</td>\n      <td>7</td>\n      <td>3.0</td>\n      <td>6.0</td>\n      <td>58</td>\n      <td>8.163</td>\n      <td>5698779.0</td>\n      <td>41.0</td>\n      <td>01:28.1</td>\n      <td>216.719</td>\n    </tr>\n    <tr>\n      <th>3</th>\n      <td>4</td>\n      <td>18</td>\n      <td>4</td>\n      <td>11</td>\n      <td>4.0</td>\n      <td>5.0</td>\n      <td>58</td>\n      <td>17.181</td>\n      <td>5707797.0</td>\n      <td>58.0</td>\n      <td>01:28.6</td>\n      <td>215.464</td>\n    </tr>\n    <tr>\n      <th>4</th>\n      <td>5</td>\n      <td>18</td>\n      <td>5</td>\n      <td>3</td>\n      <td>5.0</td>\n      <td>4.0</td>\n      <td>58</td>\n      <td>18.014</td>\n      <td>5708630.0</td>\n      <td>43.0</td>\n      <td>01:27.4</td>\n      <td>218.385</td>\n    </tr>\n  </tbody>\n</table>\n</div>"
     },
     "metadata": {},
     "execution_count": 11
    }
   ],
   "source": [
    "#Drop 'constructorId', 'number', 'positionText', 'positionOrder', 'rank', and 'statusId' columns because we don't need this info \n",
    "results_df = results_df[['resultId', 'raceId', 'driverId',  'grid', 'position',  'points', 'laps', 'time','milliseconds', 'fastestLap', 'fastestLapTime', 'fastestLapSpeed']]\n",
    "results_df.head()"
   ]
  },
  {
   "source": [
    "## Create Database Connection"
   ],
   "cell_type": "markdown",
   "metadata": {}
  },
  {
   "cell_type": "code",
   "execution_count": 12,
   "metadata": {},
   "outputs": [],
   "source": [
    "conn = f'postgresql://{PGUSER}:{PGPASSWORD}@{PGHOST}:5432/{PGDATABASE}'\n",
    "engine = create_engine(conn)\n",
    "connection = engine.connect()"
   ]
  },
  {
   "cell_type": "code",
   "execution_count": 13,
   "metadata": {},
   "outputs": [
    {
     "output_type": "stream",
     "name": "stdout",
     "text": [
      "['drivers', 'results', 'circuits', 'races']\n"
     ]
    }
   ],
   "source": [
    "# Confirm tables\n",
    "inspector = inspect(engine)\n",
    "databases = inspector.get_table_names()\n",
    "print(databases)"
   ]
  },
  {
   "cell_type": "code",
   "execution_count": 14,
   "metadata": {},
   "outputs": [],
   "source": [
    "# Declare a Base using `automap_base()`\n",
    "Base = automap_base()"
   ]
  },
  {
   "cell_type": "code",
   "execution_count": 15,
   "metadata": {},
   "outputs": [],
   "source": [
    "# Use the Base class to reflect the database tables\n",
    "Base.prepare(engine, reflect=True)"
   ]
  },
  {
   "cell_type": "code",
   "execution_count": 16,
   "metadata": {},
   "outputs": [
    {
     "output_type": "execute_result",
     "data": {
      "text/plain": [
       "['drivers', 'results', 'races', 'circuits']"
      ]
     },
     "metadata": {},
     "execution_count": 16
    }
   ],
   "source": [
    "# Print all of the classes mapped to the Base\n",
    "Base.classes.keys()"
   ]
  },
  {
   "source": [
    "## Load dataframes into Database"
   ],
   "cell_type": "markdown",
   "metadata": {}
  },
  {
   "cell_type": "code",
   "execution_count": 17,
   "metadata": {},
   "outputs": [],
   "source": [
    "circuits_df.to_sql(name='circuits', con=engine, if_exists='append', index=False)"
   ]
  },
  {
   "cell_type": "code",
   "execution_count": 18,
   "metadata": {},
   "outputs": [],
   "source": [
    "drivers_df.to_sql(name='drivers', con=engine, if_exists='append', index=False)"
   ]
  },
  {
   "cell_type": "code",
   "execution_count": 19,
   "metadata": {},
   "outputs": [],
   "source": [
    "races_df.to_sql(name='races', con=engine, if_exists='append', index=False)"
   ]
  },
  {
   "cell_type": "code",
   "execution_count": 20,
   "metadata": {},
   "outputs": [],
   "source": [
    "results_df.to_sql(name='results', con=engine, if_exists='append', index=False)"
   ]
  },
  {
   "source": [
    "## Check if everything was loaded correctly"
   ],
   "cell_type": "markdown",
   "metadata": {}
  },
  {
   "cell_type": "code",
   "execution_count": 21,
   "metadata": {},
   "outputs": [
    {
     "output_type": "execute_result",
     "data": {
      "text/plain": [
       "   circuitId      circuitRef                            name      location  \\\n",
       "0          1     albert_park  Albert Park Grand Prix Circuit     Melbourne   \n",
       "1          2          sepang    Sepang International Circuit  Kuala Lumpur   \n",
       "2          3         bahrain   Bahrain International Circuit        Sakhir   \n",
       "3          4       catalunya  Circuit de Barcelona-Catalunya     MontmelÌ_   \n",
       "4          5        istanbul                   Istanbul Park      Istanbul   \n",
       "5          6          monaco               Circuit de Monaco   Monte-Carlo   \n",
       "6          7      villeneuve       Circuit Gilles Villeneuve      Montreal   \n",
       "7          8     magny_cours   Circuit de Nevers Magny-Cours   Magny Cours   \n",
       "8          9     silverstone             Silverstone Circuit   Silverstone   \n",
       "9         10  hockenheimring                  Hockenheimring    Hockenheim   \n",
       "\n",
       "     country       lat        lng  \n",
       "0  Australia -37.84970  144.96800  \n",
       "1   Malaysia   2.76083  101.73800  \n",
       "2    Bahrain  26.03250   50.51060  \n",
       "3      Spain  41.57000    2.26111  \n",
       "4     Turkey  40.95170   29.40500  \n",
       "5     Monaco  43.73470    7.42056  \n",
       "6     Canada  45.50000  -73.52280  \n",
       "7     France  46.86420    3.16361  \n",
       "8         UK  52.07860   -1.01694  \n",
       "9    Germany  49.32780    8.56583  "
      ],
      "text/html": "<div>\n<style scoped>\n    .dataframe tbody tr th:only-of-type {\n        vertical-align: middle;\n    }\n\n    .dataframe tbody tr th {\n        vertical-align: top;\n    }\n\n    .dataframe thead th {\n        text-align: right;\n    }\n</style>\n<table border=\"1\" class=\"dataframe\">\n  <thead>\n    <tr style=\"text-align: right;\">\n      <th></th>\n      <th>circuitId</th>\n      <th>circuitRef</th>\n      <th>name</th>\n      <th>location</th>\n      <th>country</th>\n      <th>lat</th>\n      <th>lng</th>\n    </tr>\n  </thead>\n  <tbody>\n    <tr>\n      <th>0</th>\n      <td>1</td>\n      <td>albert_park</td>\n      <td>Albert Park Grand Prix Circuit</td>\n      <td>Melbourne</td>\n      <td>Australia</td>\n      <td>-37.84970</td>\n      <td>144.96800</td>\n    </tr>\n    <tr>\n      <th>1</th>\n      <td>2</td>\n      <td>sepang</td>\n      <td>Sepang International Circuit</td>\n      <td>Kuala Lumpur</td>\n      <td>Malaysia</td>\n      <td>2.76083</td>\n      <td>101.73800</td>\n    </tr>\n    <tr>\n      <th>2</th>\n      <td>3</td>\n      <td>bahrain</td>\n      <td>Bahrain International Circuit</td>\n      <td>Sakhir</td>\n      <td>Bahrain</td>\n      <td>26.03250</td>\n      <td>50.51060</td>\n    </tr>\n    <tr>\n      <th>3</th>\n      <td>4</td>\n      <td>catalunya</td>\n      <td>Circuit de Barcelona-Catalunya</td>\n      <td>MontmelÌ_</td>\n      <td>Spain</td>\n      <td>41.57000</td>\n      <td>2.26111</td>\n    </tr>\n    <tr>\n      <th>4</th>\n      <td>5</td>\n      <td>istanbul</td>\n      <td>Istanbul Park</td>\n      <td>Istanbul</td>\n      <td>Turkey</td>\n      <td>40.95170</td>\n      <td>29.40500</td>\n    </tr>\n    <tr>\n      <th>5</th>\n      <td>6</td>\n      <td>monaco</td>\n      <td>Circuit de Monaco</td>\n      <td>Monte-Carlo</td>\n      <td>Monaco</td>\n      <td>43.73470</td>\n      <td>7.42056</td>\n    </tr>\n    <tr>\n      <th>6</th>\n      <td>7</td>\n      <td>villeneuve</td>\n      <td>Circuit Gilles Villeneuve</td>\n      <td>Montreal</td>\n      <td>Canada</td>\n      <td>45.50000</td>\n      <td>-73.52280</td>\n    </tr>\n    <tr>\n      <th>7</th>\n      <td>8</td>\n      <td>magny_cours</td>\n      <td>Circuit de Nevers Magny-Cours</td>\n      <td>Magny Cours</td>\n      <td>France</td>\n      <td>46.86420</td>\n      <td>3.16361</td>\n    </tr>\n    <tr>\n      <th>8</th>\n      <td>9</td>\n      <td>silverstone</td>\n      <td>Silverstone Circuit</td>\n      <td>Silverstone</td>\n      <td>UK</td>\n      <td>52.07860</td>\n      <td>-1.01694</td>\n    </tr>\n    <tr>\n      <th>9</th>\n      <td>10</td>\n      <td>hockenheimring</td>\n      <td>Hockenheimring</td>\n      <td>Hockenheim</td>\n      <td>Germany</td>\n      <td>49.32780</td>\n      <td>8.56583</td>\n    </tr>\n  </tbody>\n</table>\n</div>"
     },
     "metadata": {},
     "execution_count": 21
    }
   ],
   "source": [
    "pd.read_sql('SELECT * FROM circuits LIMIT(10)', engine)"
   ]
  },
  {
   "cell_type": "code",
   "execution_count": 22,
   "metadata": {},
   "outputs": [
    {
     "output_type": "execute_result",
     "data": {
      "text/plain": [
       "   driverId   driverRef code    forename      surname         dob nationality\n",
       "0         1    hamilton  HAM       Lewis     Hamilton  1985-01-07     British\n",
       "1         2    heidfeld  HEI        Nick     Heidfeld  1977-05-10      German\n",
       "2         3     rosberg  ROS        Nico      Rosberg  1985-06-27      German\n",
       "3         4      alonso  ALO    Fernando       Alonso  1981-07-29     Spanish\n",
       "4         5  kovalainen  KOV      Heikki   Kovalainen  1981-10-19     Finnish\n",
       "5         6    nakajima  NAK      Kazuki     Nakajima  1985-01-11    Japanese\n",
       "6         7    bourdais  BOU  SÌ©bastien     Bourdais  1979-02-28      French\n",
       "7         8   raikkonen  RAI        Kimi  RÌ_ikkÌ¦nen  1979-10-17     Finnish\n",
       "8         9      kubica  KUB      Robert       Kubica  1984-12-07      Polish\n",
       "9        10       glock  GLO        Timo        Glock  1982-03-18      German"
      ],
      "text/html": "<div>\n<style scoped>\n    .dataframe tbody tr th:only-of-type {\n        vertical-align: middle;\n    }\n\n    .dataframe tbody tr th {\n        vertical-align: top;\n    }\n\n    .dataframe thead th {\n        text-align: right;\n    }\n</style>\n<table border=\"1\" class=\"dataframe\">\n  <thead>\n    <tr style=\"text-align: right;\">\n      <th></th>\n      <th>driverId</th>\n      <th>driverRef</th>\n      <th>code</th>\n      <th>forename</th>\n      <th>surname</th>\n      <th>dob</th>\n      <th>nationality</th>\n    </tr>\n  </thead>\n  <tbody>\n    <tr>\n      <th>0</th>\n      <td>1</td>\n      <td>hamilton</td>\n      <td>HAM</td>\n      <td>Lewis</td>\n      <td>Hamilton</td>\n      <td>1985-01-07</td>\n      <td>British</td>\n    </tr>\n    <tr>\n      <th>1</th>\n      <td>2</td>\n      <td>heidfeld</td>\n      <td>HEI</td>\n      <td>Nick</td>\n      <td>Heidfeld</td>\n      <td>1977-05-10</td>\n      <td>German</td>\n    </tr>\n    <tr>\n      <th>2</th>\n      <td>3</td>\n      <td>rosberg</td>\n      <td>ROS</td>\n      <td>Nico</td>\n      <td>Rosberg</td>\n      <td>1985-06-27</td>\n      <td>German</td>\n    </tr>\n    <tr>\n      <th>3</th>\n      <td>4</td>\n      <td>alonso</td>\n      <td>ALO</td>\n      <td>Fernando</td>\n      <td>Alonso</td>\n      <td>1981-07-29</td>\n      <td>Spanish</td>\n    </tr>\n    <tr>\n      <th>4</th>\n      <td>5</td>\n      <td>kovalainen</td>\n      <td>KOV</td>\n      <td>Heikki</td>\n      <td>Kovalainen</td>\n      <td>1981-10-19</td>\n      <td>Finnish</td>\n    </tr>\n    <tr>\n      <th>5</th>\n      <td>6</td>\n      <td>nakajima</td>\n      <td>NAK</td>\n      <td>Kazuki</td>\n      <td>Nakajima</td>\n      <td>1985-01-11</td>\n      <td>Japanese</td>\n    </tr>\n    <tr>\n      <th>6</th>\n      <td>7</td>\n      <td>bourdais</td>\n      <td>BOU</td>\n      <td>SÌ©bastien</td>\n      <td>Bourdais</td>\n      <td>1979-02-28</td>\n      <td>French</td>\n    </tr>\n    <tr>\n      <th>7</th>\n      <td>8</td>\n      <td>raikkonen</td>\n      <td>RAI</td>\n      <td>Kimi</td>\n      <td>RÌ_ikkÌ¦nen</td>\n      <td>1979-10-17</td>\n      <td>Finnish</td>\n    </tr>\n    <tr>\n      <th>8</th>\n      <td>9</td>\n      <td>kubica</td>\n      <td>KUB</td>\n      <td>Robert</td>\n      <td>Kubica</td>\n      <td>1984-12-07</td>\n      <td>Polish</td>\n    </tr>\n    <tr>\n      <th>9</th>\n      <td>10</td>\n      <td>glock</td>\n      <td>GLO</td>\n      <td>Timo</td>\n      <td>Glock</td>\n      <td>1982-03-18</td>\n      <td>German</td>\n    </tr>\n  </tbody>\n</table>\n</div>"
     },
     "metadata": {},
     "execution_count": 22
    }
   ],
   "source": [
    "pd.read_sql('SELECT * FROM drivers LIMIT(10)', engine)"
   ]
  },
  {
   "cell_type": "code",
   "execution_count": 23,
   "metadata": {},
   "outputs": [
    {
     "output_type": "execute_result",
     "data": {
      "text/plain": [
       "   raceId  year  round  circuitId                   name        date\n",
       "0       1  2009      1          1  Australian Grand Prix  2009-03-29\n",
       "1       2  2009      2          2   Malaysian Grand Prix  2009-04-05\n",
       "2       3  2009      3         17     Chinese Grand Prix  2009-04-19\n",
       "3       4  2009      4          3     Bahrain Grand Prix  2009-04-26\n",
       "4       5  2009      5          4     Spanish Grand Prix  2009-05-10\n",
       "5       6  2009      6          6      Monaco Grand Prix  2009-05-24\n",
       "6       7  2009      7          5     Turkish Grand Prix  2009-06-07\n",
       "7       8  2009      8          9     British Grand Prix  2009-06-21\n",
       "8       9  2009      9         20      German Grand Prix  2009-07-12\n",
       "9      10  2009     10         11   Hungarian Grand Prix  2009-07-26"
      ],
      "text/html": "<div>\n<style scoped>\n    .dataframe tbody tr th:only-of-type {\n        vertical-align: middle;\n    }\n\n    .dataframe tbody tr th {\n        vertical-align: top;\n    }\n\n    .dataframe thead th {\n        text-align: right;\n    }\n</style>\n<table border=\"1\" class=\"dataframe\">\n  <thead>\n    <tr style=\"text-align: right;\">\n      <th></th>\n      <th>raceId</th>\n      <th>year</th>\n      <th>round</th>\n      <th>circuitId</th>\n      <th>name</th>\n      <th>date</th>\n    </tr>\n  </thead>\n  <tbody>\n    <tr>\n      <th>0</th>\n      <td>1</td>\n      <td>2009</td>\n      <td>1</td>\n      <td>1</td>\n      <td>Australian Grand Prix</td>\n      <td>2009-03-29</td>\n    </tr>\n    <tr>\n      <th>1</th>\n      <td>2</td>\n      <td>2009</td>\n      <td>2</td>\n      <td>2</td>\n      <td>Malaysian Grand Prix</td>\n      <td>2009-04-05</td>\n    </tr>\n    <tr>\n      <th>2</th>\n      <td>3</td>\n      <td>2009</td>\n      <td>3</td>\n      <td>17</td>\n      <td>Chinese Grand Prix</td>\n      <td>2009-04-19</td>\n    </tr>\n    <tr>\n      <th>3</th>\n      <td>4</td>\n      <td>2009</td>\n      <td>4</td>\n      <td>3</td>\n      <td>Bahrain Grand Prix</td>\n      <td>2009-04-26</td>\n    </tr>\n    <tr>\n      <th>4</th>\n      <td>5</td>\n      <td>2009</td>\n      <td>5</td>\n      <td>4</td>\n      <td>Spanish Grand Prix</td>\n      <td>2009-05-10</td>\n    </tr>\n    <tr>\n      <th>5</th>\n      <td>6</td>\n      <td>2009</td>\n      <td>6</td>\n      <td>6</td>\n      <td>Monaco Grand Prix</td>\n      <td>2009-05-24</td>\n    </tr>\n    <tr>\n      <th>6</th>\n      <td>7</td>\n      <td>2009</td>\n      <td>7</td>\n      <td>5</td>\n      <td>Turkish Grand Prix</td>\n      <td>2009-06-07</td>\n    </tr>\n    <tr>\n      <th>7</th>\n      <td>8</td>\n      <td>2009</td>\n      <td>8</td>\n      <td>9</td>\n      <td>British Grand Prix</td>\n      <td>2009-06-21</td>\n    </tr>\n    <tr>\n      <th>8</th>\n      <td>9</td>\n      <td>2009</td>\n      <td>9</td>\n      <td>20</td>\n      <td>German Grand Prix</td>\n      <td>2009-07-12</td>\n    </tr>\n    <tr>\n      <th>9</th>\n      <td>10</td>\n      <td>2009</td>\n      <td>10</td>\n      <td>11</td>\n      <td>Hungarian Grand Prix</td>\n      <td>2009-07-26</td>\n    </tr>\n  </tbody>\n</table>\n</div>"
     },
     "metadata": {},
     "execution_count": 23
    }
   ],
   "source": [
    "pd.read_sql('SELECT * FROM races LIMIT(10)', engine)"
   ]
  },
  {
   "cell_type": "code",
   "execution_count": 24,
   "metadata": {},
   "outputs": [
    {
     "output_type": "execute_result",
     "data": {
      "text/plain": [
       "   resultId  raceId  driverId  grid  position  points  laps     time  \\\n",
       "0         1      18         1     1       1.0      10    58  34:50.6   \n",
       "1         2      18         2     5       2.0       8    58    5.478   \n",
       "2         3      18         3     7       3.0       6    58    8.163   \n",
       "3         4      18         4    11       4.0       5    58   17.181   \n",
       "4         5      18         5     3       5.0       4    58   18.014   \n",
       "5         6      18         6    13       6.0       3    57     None   \n",
       "6         7      18         7    17       7.0       2    55     None   \n",
       "7         8      18         8    15       8.0       1    53     None   \n",
       "8         9      18         9     2       NaN       0    47     None   \n",
       "9        10      18        10    18       NaN       0    43     None   \n",
       "\n",
       "  milliseconds fastestLap fastestLapTime fastestLapSpeed  \n",
       "0    5690616.0       39.0        01:27.5           218.3  \n",
       "1    5696094.0       41.0        01:27.7         217.586  \n",
       "2    5698779.0       41.0        01:28.1         216.719  \n",
       "3    5707797.0       58.0        01:28.6         215.464  \n",
       "4    5708630.0       43.0        01:27.4         218.385  \n",
       "5         None       50.0        01:29.6         212.974  \n",
       "6         None       22.0        01:29.5         213.224  \n",
       "7         None       20.0        01:27.9          217.18  \n",
       "8         None       15.0        01:28.8           215.1  \n",
       "9         None       23.0        01:29.6         213.166  "
      ],
      "text/html": "<div>\n<style scoped>\n    .dataframe tbody tr th:only-of-type {\n        vertical-align: middle;\n    }\n\n    .dataframe tbody tr th {\n        vertical-align: top;\n    }\n\n    .dataframe thead th {\n        text-align: right;\n    }\n</style>\n<table border=\"1\" class=\"dataframe\">\n  <thead>\n    <tr style=\"text-align: right;\">\n      <th></th>\n      <th>resultId</th>\n      <th>raceId</th>\n      <th>driverId</th>\n      <th>grid</th>\n      <th>position</th>\n      <th>points</th>\n      <th>laps</th>\n      <th>time</th>\n      <th>milliseconds</th>\n      <th>fastestLap</th>\n      <th>fastestLapTime</th>\n      <th>fastestLapSpeed</th>\n    </tr>\n  </thead>\n  <tbody>\n    <tr>\n      <th>0</th>\n      <td>1</td>\n      <td>18</td>\n      <td>1</td>\n      <td>1</td>\n      <td>1.0</td>\n      <td>10</td>\n      <td>58</td>\n      <td>34:50.6</td>\n      <td>5690616.0</td>\n      <td>39.0</td>\n      <td>01:27.5</td>\n      <td>218.3</td>\n    </tr>\n    <tr>\n      <th>1</th>\n      <td>2</td>\n      <td>18</td>\n      <td>2</td>\n      <td>5</td>\n      <td>2.0</td>\n      <td>8</td>\n      <td>58</td>\n      <td>5.478</td>\n      <td>5696094.0</td>\n      <td>41.0</td>\n      <td>01:27.7</td>\n      <td>217.586</td>\n    </tr>\n    <tr>\n      <th>2</th>\n      <td>3</td>\n      <td>18</td>\n      <td>3</td>\n      <td>7</td>\n      <td>3.0</td>\n      <td>6</td>\n      <td>58</td>\n      <td>8.163</td>\n      <td>5698779.0</td>\n      <td>41.0</td>\n      <td>01:28.1</td>\n      <td>216.719</td>\n    </tr>\n    <tr>\n      <th>3</th>\n      <td>4</td>\n      <td>18</td>\n      <td>4</td>\n      <td>11</td>\n      <td>4.0</td>\n      <td>5</td>\n      <td>58</td>\n      <td>17.181</td>\n      <td>5707797.0</td>\n      <td>58.0</td>\n      <td>01:28.6</td>\n      <td>215.464</td>\n    </tr>\n    <tr>\n      <th>4</th>\n      <td>5</td>\n      <td>18</td>\n      <td>5</td>\n      <td>3</td>\n      <td>5.0</td>\n      <td>4</td>\n      <td>58</td>\n      <td>18.014</td>\n      <td>5708630.0</td>\n      <td>43.0</td>\n      <td>01:27.4</td>\n      <td>218.385</td>\n    </tr>\n    <tr>\n      <th>5</th>\n      <td>6</td>\n      <td>18</td>\n      <td>6</td>\n      <td>13</td>\n      <td>6.0</td>\n      <td>3</td>\n      <td>57</td>\n      <td>None</td>\n      <td>None</td>\n      <td>50.0</td>\n      <td>01:29.6</td>\n      <td>212.974</td>\n    </tr>\n    <tr>\n      <th>6</th>\n      <td>7</td>\n      <td>18</td>\n      <td>7</td>\n      <td>17</td>\n      <td>7.0</td>\n      <td>2</td>\n      <td>55</td>\n      <td>None</td>\n      <td>None</td>\n      <td>22.0</td>\n      <td>01:29.5</td>\n      <td>213.224</td>\n    </tr>\n    <tr>\n      <th>7</th>\n      <td>8</td>\n      <td>18</td>\n      <td>8</td>\n      <td>15</td>\n      <td>8.0</td>\n      <td>1</td>\n      <td>53</td>\n      <td>None</td>\n      <td>None</td>\n      <td>20.0</td>\n      <td>01:27.9</td>\n      <td>217.18</td>\n    </tr>\n    <tr>\n      <th>8</th>\n      <td>9</td>\n      <td>18</td>\n      <td>9</td>\n      <td>2</td>\n      <td>NaN</td>\n      <td>0</td>\n      <td>47</td>\n      <td>None</td>\n      <td>None</td>\n      <td>15.0</td>\n      <td>01:28.8</td>\n      <td>215.1</td>\n    </tr>\n    <tr>\n      <th>9</th>\n      <td>10</td>\n      <td>18</td>\n      <td>10</td>\n      <td>18</td>\n      <td>NaN</td>\n      <td>0</td>\n      <td>43</td>\n      <td>None</td>\n      <td>None</td>\n      <td>23.0</td>\n      <td>01:29.6</td>\n      <td>213.166</td>\n    </tr>\n  </tbody>\n</table>\n</div>"
     },
     "metadata": {},
     "execution_count": 24
    }
   ],
   "source": [
    "pd.read_sql('SELECT * FROM results LIMIT(10)', engine)"
   ]
  },
  {
   "source": [
    "## Answering some questions..."
   ],
   "cell_type": "markdown",
   "metadata": {}
  },
  {
   "cell_type": "code",
   "execution_count": 25,
   "metadata": {},
   "outputs": [],
   "source": [
    "# Assign tables to variables - just the one that will be used\n",
    "drivers_db = Base.classes.drivers\n",
    "circuits_db = Base.classes.circuits\n",
    "races_db = Base.classes.races\n",
    "results_db = Base.classes.results"
   ]
  },
  {
   "cell_type": "code",
   "execution_count": 26,
   "metadata": {},
   "outputs": [],
   "source": [
    "# Create a session\n",
    "session = Session(engine)"
   ]
  },
  {
   "cell_type": "code",
   "execution_count": 27,
   "metadata": {},
   "outputs": [
    {
     "output_type": "execute_result",
     "data": {
      "text/plain": [
       "               count\n",
       "nationality         \n",
       "British          162\n",
       "American         157\n",
       "Italian           99\n",
       "French            73\n",
       "German            49\n",
       "Brazilian         31\n",
       "Argentine         24\n",
       "South African     23\n",
       "Belgian           23\n",
       "Swiss             23"
      ],
      "text/html": "<div>\n<style scoped>\n    .dataframe tbody tr th:only-of-type {\n        vertical-align: middle;\n    }\n\n    .dataframe tbody tr th {\n        vertical-align: top;\n    }\n\n    .dataframe thead th {\n        text-align: right;\n    }\n</style>\n<table border=\"1\" class=\"dataframe\">\n  <thead>\n    <tr style=\"text-align: right;\">\n      <th></th>\n      <th>count</th>\n    </tr>\n    <tr>\n      <th>nationality</th>\n      <th></th>\n    </tr>\n  </thead>\n  <tbody>\n    <tr>\n      <th>British</th>\n      <td>162</td>\n    </tr>\n    <tr>\n      <th>American</th>\n      <td>157</td>\n    </tr>\n    <tr>\n      <th>Italian</th>\n      <td>99</td>\n    </tr>\n    <tr>\n      <th>French</th>\n      <td>73</td>\n    </tr>\n    <tr>\n      <th>German</th>\n      <td>49</td>\n    </tr>\n    <tr>\n      <th>Brazilian</th>\n      <td>31</td>\n    </tr>\n    <tr>\n      <th>Argentine</th>\n      <td>24</td>\n    </tr>\n    <tr>\n      <th>South African</th>\n      <td>23</td>\n    </tr>\n    <tr>\n      <th>Belgian</th>\n      <td>23</td>\n    </tr>\n    <tr>\n      <th>Swiss</th>\n      <td>23</td>\n    </tr>\n  </tbody>\n</table>\n</div>"
     },
     "metadata": {},
     "execution_count": 27
    }
   ],
   "source": [
    "# What's the distribution of drivers based on their nationality?\n",
    "nationality_result = session.query(drivers_db.nationality, func.count(drivers_db.driverId)).\\\n",
    "    group_by(drivers_db.nationality).\\\n",
    "    order_by(func.count(drivers_db.driverId).desc()).all()\n",
    "nationality_df = pd.DataFrame(nationality_result, columns=['nationality', 'count'])\n",
    "nationality_df.set_index('nationality', inplace=True)\n",
    "nationality_df.head(10)"
   ]
  },
  {
   "cell_type": "code",
   "execution_count": 37,
   "metadata": {},
   "outputs": [
    {
     "output_type": "execute_result",
     "data": {
      "text/plain": [
       "             count\n",
       "nationality       \n",
       "British        267\n",
       "German         173\n",
       "Brazilian      101\n",
       "French          79\n",
       "Finnish         49\n",
       "Italian         43\n",
       "Austrian        41\n",
       "Australian      40\n",
       "Argentine       38\n",
       "American        33"
      ],
      "text/html": "<div>\n<style scoped>\n    .dataframe tbody tr th:only-of-type {\n        vertical-align: middle;\n    }\n\n    .dataframe tbody tr th {\n        vertical-align: top;\n    }\n\n    .dataframe thead th {\n        text-align: right;\n    }\n</style>\n<table border=\"1\" class=\"dataframe\">\n  <thead>\n    <tr style=\"text-align: right;\">\n      <th></th>\n      <th>count</th>\n    </tr>\n    <tr>\n      <th>nationality</th>\n      <th></th>\n    </tr>\n  </thead>\n  <tbody>\n    <tr>\n      <th>British</th>\n      <td>267</td>\n    </tr>\n    <tr>\n      <th>German</th>\n      <td>173</td>\n    </tr>\n    <tr>\n      <th>Brazilian</th>\n      <td>101</td>\n    </tr>\n    <tr>\n      <th>French</th>\n      <td>79</td>\n    </tr>\n    <tr>\n      <th>Finnish</th>\n      <td>49</td>\n    </tr>\n    <tr>\n      <th>Italian</th>\n      <td>43</td>\n    </tr>\n    <tr>\n      <th>Austrian</th>\n      <td>41</td>\n    </tr>\n    <tr>\n      <th>Australian</th>\n      <td>40</td>\n    </tr>\n    <tr>\n      <th>Argentine</th>\n      <td>38</td>\n    </tr>\n    <tr>\n      <th>American</th>\n      <td>33</td>\n    </tr>\n  </tbody>\n</table>\n</div>"
     },
     "metadata": {},
     "execution_count": 37
    }
   ],
   "source": [
    "# Based on the nationality: What's the distribution of winners, 2nd and 3rd places?\n",
    "winners_results = session.query(drivers_db.nationality, func.count(drivers_db.driverId)).\\\n",
    "    filter(drivers_db.driverId == results_db.driverId).\\\n",
    "    filter(results_db.position == 1).\\\n",
    "    group_by(drivers_db.nationality).\\\n",
    "    order_by(func.count(drivers_db.driverId).desc()).all()\n",
    "winners_results_df = pd.DataFrame(winners_results, columns=['nationality', 'count'])\n",
    "winners_results_df.set_index('nationality', inplace=True)\n",
    "winners_results_df.head(10)"
   ]
  },
  {
   "cell_type": "code",
   "execution_count": 38,
   "metadata": {},
   "outputs": [
    {
     "output_type": "execute_result",
     "data": {
      "text/plain": [
       "             2nd\n",
       "nationality     \n",
       "British      195\n",
       "German       117\n",
       "French       111\n",
       "Brazilian    103\n",
       "Italian       79\n",
       "Finnish       67\n",
       "American      41\n",
       "Austrian      40\n",
       "Spanish       39\n",
       "Australian    39"
      ],
      "text/html": "<div>\n<style scoped>\n    .dataframe tbody tr th:only-of-type {\n        vertical-align: middle;\n    }\n\n    .dataframe tbody tr th {\n        vertical-align: top;\n    }\n\n    .dataframe thead th {\n        text-align: right;\n    }\n</style>\n<table border=\"1\" class=\"dataframe\">\n  <thead>\n    <tr style=\"text-align: right;\">\n      <th></th>\n      <th>2nd</th>\n    </tr>\n    <tr>\n      <th>nationality</th>\n      <th></th>\n    </tr>\n  </thead>\n  <tbody>\n    <tr>\n      <th>British</th>\n      <td>195</td>\n    </tr>\n    <tr>\n      <th>German</th>\n      <td>117</td>\n    </tr>\n    <tr>\n      <th>French</th>\n      <td>111</td>\n    </tr>\n    <tr>\n      <th>Brazilian</th>\n      <td>103</td>\n    </tr>\n    <tr>\n      <th>Italian</th>\n      <td>79</td>\n    </tr>\n    <tr>\n      <th>Finnish</th>\n      <td>67</td>\n    </tr>\n    <tr>\n      <th>American</th>\n      <td>41</td>\n    </tr>\n    <tr>\n      <th>Austrian</th>\n      <td>40</td>\n    </tr>\n    <tr>\n      <th>Spanish</th>\n      <td>39</td>\n    </tr>\n    <tr>\n      <th>Australian</th>\n      <td>39</td>\n    </tr>\n  </tbody>\n</table>\n</div>"
     },
     "metadata": {},
     "execution_count": 38
    }
   ],
   "source": [
    "second_results = session.query(drivers_db.nationality, func.count(drivers_db.driverId)).\\\n",
    "    filter(drivers_db.driverId == results_db.driverId).\\\n",
    "    filter(results_db.position == 2).\\\n",
    "    group_by(drivers_db.nationality).\\\n",
    "    order_by(func.count(drivers_db.driverId).desc()).all()\n",
    "second_results_df = pd.DataFrame(second_results, columns=['nationality', '2nd'])\n",
    "second_results_df.set_index('nationality', inplace=True)\n",
    "second_results_df.head(10)"
   ]
  },
  {
   "cell_type": "code",
   "execution_count": 39,
   "metadata": {},
   "outputs": [
    {
     "output_type": "execute_result",
     "data": {
      "text/plain": [
       "               3rd\n",
       "nationality       \n",
       "British        186\n",
       "French         113\n",
       "German         102\n",
       "Brazilian       89\n",
       "Italian         85\n",
       "Finnish         72\n",
       "American        55\n",
       "Australian      46\n",
       "Austrian        37\n",
       "New Zealander   36"
      ],
      "text/html": "<div>\n<style scoped>\n    .dataframe tbody tr th:only-of-type {\n        vertical-align: middle;\n    }\n\n    .dataframe tbody tr th {\n        vertical-align: top;\n    }\n\n    .dataframe thead th {\n        text-align: right;\n    }\n</style>\n<table border=\"1\" class=\"dataframe\">\n  <thead>\n    <tr style=\"text-align: right;\">\n      <th></th>\n      <th>3rd</th>\n    </tr>\n    <tr>\n      <th>nationality</th>\n      <th></th>\n    </tr>\n  </thead>\n  <tbody>\n    <tr>\n      <th>British</th>\n      <td>186</td>\n    </tr>\n    <tr>\n      <th>French</th>\n      <td>113</td>\n    </tr>\n    <tr>\n      <th>German</th>\n      <td>102</td>\n    </tr>\n    <tr>\n      <th>Brazilian</th>\n      <td>89</td>\n    </tr>\n    <tr>\n      <th>Italian</th>\n      <td>85</td>\n    </tr>\n    <tr>\n      <th>Finnish</th>\n      <td>72</td>\n    </tr>\n    <tr>\n      <th>American</th>\n      <td>55</td>\n    </tr>\n    <tr>\n      <th>Australian</th>\n      <td>46</td>\n    </tr>\n    <tr>\n      <th>Austrian</th>\n      <td>37</td>\n    </tr>\n    <tr>\n      <th>New Zealander</th>\n      <td>36</td>\n    </tr>\n  </tbody>\n</table>\n</div>"
     },
     "metadata": {},
     "execution_count": 39
    }
   ],
   "source": [
    "third_results = session.query(drivers_db.nationality, func.count(drivers_db.driverId)).\\\n",
    "    filter(drivers_db.driverId == results_db.driverId).\\\n",
    "    filter(results_db.position == 3).\\\n",
    "    group_by(drivers_db.nationality).\\\n",
    "    order_by(func.count(drivers_db.driverId).desc()).all()\n",
    "third_results_df = pd.DataFrame(third_results, columns=['nationality', '3rd'])\n",
    "third_results_df.set_index('nationality', inplace=True)\n",
    "third_results_df.head(10)"
   ]
  },
  {
   "cell_type": "code",
   "execution_count": 40,
   "metadata": {},
   "outputs": [],
   "source": [
    "podium_df = pd.merge(winners_results_df, second_results_df, left_index=True, right_index=True)"
   ]
  },
  {
   "cell_type": "code",
   "execution_count": 41,
   "metadata": {},
   "outputs": [],
   "source": [
    "podium_df = pd.merge(podium_df, third_results_df, left_index=True, right_index=True)"
   ]
  },
  {
   "cell_type": "code",
   "execution_count": 42,
   "metadata": {},
   "outputs": [
    {
     "output_type": "execute_result",
     "data": {
      "text/plain": [
       "             count  2nd  3rd  Total Podiums Appearances\n",
       "nationality                                            \n",
       "British        267  195  186                        648\n",
       "German         173  117  102                        392\n",
       "French          79  111  113                        303\n",
       "Brazilian      101  103   89                        293\n",
       "Italian         43   79   85                        207\n",
       "Finnish         49   67   72                        188\n",
       "American        33   41   55                        129\n",
       "Australian      40   39   46                        125\n",
       "Austrian        41   40   37                        118\n",
       "Spanish         32   39   28                         99"
      ],
      "text/html": "<div>\n<style scoped>\n    .dataframe tbody tr th:only-of-type {\n        vertical-align: middle;\n    }\n\n    .dataframe tbody tr th {\n        vertical-align: top;\n    }\n\n    .dataframe thead th {\n        text-align: right;\n    }\n</style>\n<table border=\"1\" class=\"dataframe\">\n  <thead>\n    <tr style=\"text-align: right;\">\n      <th></th>\n      <th>count</th>\n      <th>2nd</th>\n      <th>3rd</th>\n      <th>Total Podiums Appearances</th>\n    </tr>\n    <tr>\n      <th>nationality</th>\n      <th></th>\n      <th></th>\n      <th></th>\n      <th></th>\n    </tr>\n  </thead>\n  <tbody>\n    <tr>\n      <th>British</th>\n      <td>267</td>\n      <td>195</td>\n      <td>186</td>\n      <td>648</td>\n    </tr>\n    <tr>\n      <th>German</th>\n      <td>173</td>\n      <td>117</td>\n      <td>102</td>\n      <td>392</td>\n    </tr>\n    <tr>\n      <th>French</th>\n      <td>79</td>\n      <td>111</td>\n      <td>113</td>\n      <td>303</td>\n    </tr>\n    <tr>\n      <th>Brazilian</th>\n      <td>101</td>\n      <td>103</td>\n      <td>89</td>\n      <td>293</td>\n    </tr>\n    <tr>\n      <th>Italian</th>\n      <td>43</td>\n      <td>79</td>\n      <td>85</td>\n      <td>207</td>\n    </tr>\n    <tr>\n      <th>Finnish</th>\n      <td>49</td>\n      <td>67</td>\n      <td>72</td>\n      <td>188</td>\n    </tr>\n    <tr>\n      <th>American</th>\n      <td>33</td>\n      <td>41</td>\n      <td>55</td>\n      <td>129</td>\n    </tr>\n    <tr>\n      <th>Australian</th>\n      <td>40</td>\n      <td>39</td>\n      <td>46</td>\n      <td>125</td>\n    </tr>\n    <tr>\n      <th>Austrian</th>\n      <td>41</td>\n      <td>40</td>\n      <td>37</td>\n      <td>118</td>\n    </tr>\n    <tr>\n      <th>Spanish</th>\n      <td>32</td>\n      <td>39</td>\n      <td>28</td>\n      <td>99</td>\n    </tr>\n  </tbody>\n</table>\n</div>"
     },
     "metadata": {},
     "execution_count": 42
    }
   ],
   "source": [
    "podium_df['Total Podiums Appearances'] = podium_df.sum(axis=1)\n",
    "podium_df=podium_df.sort_values('Total Podiums Appearances', ascending=0)\n",
    "podium_df.head(10)"
   ]
  },
  {
   "cell_type": "code",
   "execution_count": null,
   "metadata": {},
   "outputs": [],
   "source": []
  }
 ]
}